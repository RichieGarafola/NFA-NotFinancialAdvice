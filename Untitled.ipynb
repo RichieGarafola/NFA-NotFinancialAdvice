{
 "cells": [
  {
   "cell_type": "code",
   "execution_count": 12,
   "id": "549a7d02-f482-48d9-855d-de46b93e1370",
   "metadata": {},
   "outputs": [
    {
     "ename": "ModuleNotFoundError",
     "evalue": "No module named 'thirdweb'",
     "output_type": "error",
     "traceback": [
      "\u001b[1;31m---------------------------------------------------------------------------\u001b[0m",
      "\u001b[1;31mModuleNotFoundError\u001b[0m                       Traceback (most recent call last)",
      "\u001b[1;32m~\\AppData\\Local\\Temp\\ipykernel_416\\3538970876.py\u001b[0m in \u001b[0;36m<module>\u001b[1;34m\u001b[0m\n\u001b[1;32m----> 1\u001b[1;33m \u001b[1;32mfrom\u001b[0m \u001b[0mthirdweb\u001b[0m \u001b[1;32mimport\u001b[0m \u001b[0mThirdwebSDK\u001b[0m\u001b[1;33m\u001b[0m\u001b[1;33m\u001b[0m\u001b[0m\n\u001b[0m",
      "\u001b[1;31mModuleNotFoundError\u001b[0m: No module named 'thirdweb'"
     ]
    }
   ],
   "source": [
    "from thirdweb import ThirdwebSDK"
   ]
  },
  {
   "cell_type": "code",
   "execution_count": 11,
   "id": "b3f3c20d-e178-4641-b892-2ea6498b299c",
   "metadata": {},
   "outputs": [
    {
     "name": "stdout",
     "output_type": "stream",
     "text": [
      "Collecting thirdweb-sdk\n",
      "  Using cached thirdweb_sdk-2.0.18-py3-none-any.whl (254 kB)\n",
      "Collecting pymerkle<3.0.0,>=2.0.2\n",
      "  Using cached pymerkle-2.0.2-py3-none-any.whl (92 kB)\n",
      "Collecting pyee<10.0.0,>=9.0.4\n",
      "  Using cached pyee-9.0.4-py2.py3-none-any.whl (14 kB)\n",
      "Requirement already satisfied: mypy-extensions<0.5.0,>=0.4.3 in c:\\users\\owner\\anaconda3\\envs\\project3\\lib\\site-packages (from thirdweb-sdk) (0.4.3)\n",
      "Collecting web3==5.27.0\n",
      "  Using cached web3-5.27.0-py3-none-any.whl (495 kB)\n",
      "Collecting thirdweb-contract-wrappers<3.0.0,>=2.0.4\n",
      "  Using cached thirdweb_contract_wrappers-2.0.4-py3-none-any.whl (11 kB)\n",
      "Collecting pytz<2023.0,>=2022.1\n",
      "  Using cached pytz-2022.1-py2.py3-none-any.whl (503 kB)\n",
      "Collecting cbor2<6.0.0,>=5.4.3\n",
      "  Using cached cbor2-5.4.3-cp37-cp37m-win_amd64.whl (58 kB)\n",
      "Note: you may need to restart the kernel to use updated packages.Collecting thirdweb-eth-account<0.7.0,>=0.6.6\n",
      "  Using cached thirdweb_eth_account-0.6.6-py3-none-any.whl (102 kB)\n",
      "Collecting dacite<2.0.0,>=1.6.0\n",
      "  Using cached dacite-1.6.0-py3-none-any.whl (12 kB)\n",
      "\n",
      "Collecting eth-utils<2.0.0,>=1.9.5\n",
      "  Using cached eth_utils-1.10.0-py3-none-any.whl (24 kB)\n",
      "Requirement already satisfied: requests<3.0.0,>=2.16.0 in c:\\users\\owner\\anaconda3\\envs\\project3\\lib\\site-packages (from web3==5.27.0->thirdweb-sdk) (2.27.1)\n",
      "Collecting jsonschema<4.0.0,>=3.2.0\n",
      "  Using cached jsonschema-3.2.0-py2.py3-none-any.whl (56 kB)\n",
      "Collecting websockets<10,>=9.1\n"
     ]
    },
    {
     "name": "stderr",
     "output_type": "stream",
     "text": [
      "ERROR: Could not install packages due to an OSError: [Errno 13] Permission denied: 'C:\\\\users\\\\owner\\\\appdata\\\\local\\\\pip\\\\cache\\\\wheels\\\\88\\\\5d\\\\ba\\\\f27d8af07306b65ee44f9d3f9cadea1db749a421a6db8a99bf\\\\parsimonious-0.8.1-py3-none-any.whl'\n",
      "Check the permissions.\n",
      "\n"
     ]
    },
    {
     "name": "stdout",
     "output_type": "stream",
     "text": [
      "  Using cached websockets-9.1-cp37-cp37m-win_amd64.whl (90 kB)\n",
      "Collecting eth-typing<3.0.0,>=2.0.0\n",
      "  Using cached eth_typing-2.3.0-py3-none-any.whl (6.2 kB)\n",
      "Collecting lru-dict<2.0.0,>=1.1.6\n",
      "  Using cached lru_dict-1.1.8-cp37-cp37m-win_amd64.whl (12 kB)\n",
      "Requirement already satisfied: typing-extensions<5,>=3.7.4.1 in c:\\users\\owner\\anaconda3\\envs\\project3\\lib\\site-packages (from web3==5.27.0->thirdweb-sdk) (4.1.1)\n",
      "Collecting hexbytes<1.0.0,>=0.1.0\n",
      "  Using cached hexbytes-0.2.2-py3-none-any.whl (6.1 kB)\n",
      "Requirement already satisfied: aiohttp<4,>=3.7.4.post0 in c:\\users\\owner\\anaconda3\\envs\\project3\\lib\\site-packages (from web3==5.27.0->thirdweb-sdk) (3.8.1)\n",
      "Collecting eth-account<0.6.0,>=0.5.7\n",
      "  Using cached eth_account-0.5.8-py3-none-any.whl (101 kB)\n",
      "Collecting eth-abi<3.0.0,>=2.0.0b6\n",
      "  Using cached eth_abi-2.2.0-py3-none-any.whl (28 kB)\n",
      "Requirement already satisfied: protobuf<4,>=3.10.0 in c:\\users\\owner\\anaconda3\\envs\\project3\\lib\\site-packages (from web3==5.27.0->thirdweb-sdk) (3.19.1)\n",
      "Requirement already satisfied: pywin32>=223 in c:\\users\\owner\\anaconda3\\envs\\project3\\lib\\site-packages (from web3==5.27.0->thirdweb-sdk) (302)\n",
      "Collecting ipfshttpclient==0.8.0a2\n",
      "  Using cached ipfshttpclient-0.8.0a2-py3-none-any.whl (82 kB)\n",
      "Collecting eth-hash[pycryptodome]<1.0.0,>=0.2.0\n",
      "  Using cached eth_hash-0.5.0-py3-none-any.whl (8.9 kB)\n",
      "Collecting multiaddr>=0.0.7\n",
      "  Using cached multiaddr-0.0.9-py2.py3-none-any.whl (16 kB)\n",
      "Requirement already satisfied: async-timeout<5.0,>=4.0.0a3 in c:\\users\\owner\\anaconda3\\envs\\project3\\lib\\site-packages (from aiohttp<4,>=3.7.4.post0->web3==5.27.0->thirdweb-sdk) (4.0.1)\n",
      "Requirement already satisfied: asynctest==0.13.0 in c:\\users\\owner\\anaconda3\\envs\\project3\\lib\\site-packages (from aiohttp<4,>=3.7.4.post0->web3==5.27.0->thirdweb-sdk) (0.13.0)\n",
      "Requirement already satisfied: aiosignal>=1.1.2 in c:\\users\\owner\\anaconda3\\envs\\project3\\lib\\site-packages (from aiohttp<4,>=3.7.4.post0->web3==5.27.0->thirdweb-sdk) (1.2.0)\n",
      "Requirement already satisfied: multidict<7.0,>=4.5 in c:\\users\\owner\\anaconda3\\envs\\project3\\lib\\site-packages (from aiohttp<4,>=3.7.4.post0->web3==5.27.0->thirdweb-sdk) (5.1.0)\n",
      "Requirement already satisfied: yarl<2.0,>=1.0 in c:\\users\\owner\\anaconda3\\envs\\project3\\lib\\site-packages (from aiohttp<4,>=3.7.4.post0->web3==5.27.0->thirdweb-sdk) (1.5.1)\n",
      "Requirement already satisfied: attrs>=17.3.0 in c:\\users\\owner\\anaconda3\\envs\\project3\\lib\\site-packages (from aiohttp<4,>=3.7.4.post0->web3==5.27.0->thirdweb-sdk) (21.4.0)\n",
      "Requirement already satisfied: frozenlist>=1.1.1 in c:\\users\\owner\\anaconda3\\envs\\project3\\lib\\site-packages (from aiohttp<4,>=3.7.4.post0->web3==5.27.0->thirdweb-sdk) (1.2.0)\n",
      "Requirement already satisfied: charset-normalizer<3.0,>=2.0 in c:\\users\\owner\\anaconda3\\envs\\project3\\lib\\site-packages (from aiohttp<4,>=3.7.4.post0->web3==5.27.0->thirdweb-sdk) (2.0.4)\n",
      "Collecting parsimonious<0.9.0,>=0.8.0\n",
      "  Using cached parsimonious-0.8.1-py3-none-any.whl\n"
     ]
    }
   ],
   "source": [
    "pip install thirdweb-sdk --user"
   ]
  },
  {
   "cell_type": "code",
   "execution_count": null,
   "id": "e995004c-26a9-4248-a648-7c3034008585",
   "metadata": {},
   "outputs": [],
   "source": []
  }
 ],
 "metadata": {
  "kernelspec": {
   "display_name": "Python [conda env:Project3]",
   "language": "python",
   "name": "conda-env-Project3-py"
  },
  "language_info": {
   "codemirror_mode": {
    "name": "ipython",
    "version": 3
   },
   "file_extension": ".py",
   "mimetype": "text/x-python",
   "name": "python",
   "nbconvert_exporter": "python",
   "pygments_lexer": "ipython3",
   "version": "3.7.13"
  }
 },
 "nbformat": 4,
 "nbformat_minor": 5
}
