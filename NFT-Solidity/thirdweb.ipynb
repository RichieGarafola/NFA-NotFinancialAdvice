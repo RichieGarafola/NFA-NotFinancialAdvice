{
 "cells": [
  {
   "cell_type": "code",
   "execution_count": 38,
   "id": "1ae376b8-19f6-4b7e-8102-226796c4d4a5",
   "metadata": {},
   "outputs": [],
   "source": [
    "from thirdweb import ThirdwebSDK"
   ]
  },
  {
   "cell_type": "code",
   "execution_count": 39,
   "id": "a37a32a8-0e44-4fae-9cdd-b83b0892feb7",
   "metadata": {},
   "outputs": [],
   "source": [
    "from thirdweb import ThirdwebSDK\n",
    "from pprint import pprint\n",
    "sdk = ThirdwebSDK(\"rinkeby\")\n",
    "from pathlib import Path \n",
    "import json\n",
    "import os\n"
   ]
  },
  {
   "cell_type": "code",
   "execution_count": 25,
   "id": "f4805da8-4b7c-42f8-9683-f8e36a4bf8ca",
   "metadata": {},
   "outputs": [],
   "source": [
    "from web3 import Web3\n",
    "w3 = Web3(Web3.HTTPProvider(os.getenv(\"WEB3_PROVIDER_URI\")))"
   ]
  },
  {
   "cell_type": "code",
   "execution_count": 28,
   "id": "fa966f1c-3b25-4b3b-a5c1-abd69913add7",
   "metadata": {},
   "outputs": [],
   "source": [
    "def load_contract():\n",
    "    # Load the contract ABI\n",
    "    with open(Path('./compiled/NFA_abi.json')) as f:\n",
    "        nfa_abi = json.load(f)\n",
    "    # Set the contract address (this is the address of the deployed contract)\n",
    "    contract_address = os.getenv(\"SMART_CONTRACT_ADDRESS\")\n",
    "    # Get the contract\n",
    "    contract = w3.eth.contract(\n",
    "        address=contract_address,\n",
    "        abi=nfa_abi\n",
    "    )\n",
    "    return contract\n",
    "# Load the contract\n",
    "contract = load_contract()"
   ]
  },
  {
   "cell_type": "code",
   "execution_count": null,
   "id": "d76520da-1433-4047-8ab5-8c9947f0c699",
   "metadata": {},
   "outputs": [],
   "source": []
  },
  {
   "cell_type": "code",
   "execution_count": 40,
   "id": "7ab43df7-eabc-40d9-9f35-d17caab45a9a",
   "metadata": {},
   "outputs": [
    {
     "ename": "ContractLogicError",
     "evalue": "execution reverted",
     "output_type": "error",
     "traceback": [
      "\u001b[1;31m---------------------------------------------------------------------------\u001b[0m",
      "\u001b[1;31mContractLogicError\u001b[0m                        Traceback (most recent call last)",
      "Input \u001b[1;32mIn [40]\u001b[0m, in \u001b[0;36m<cell line: 3>\u001b[1;34m()\u001b[0m\n\u001b[0;32m      1\u001b[0m nftCollection \u001b[38;5;241m=\u001b[39m sdk\u001b[38;5;241m.\u001b[39mget_nft_collection(\n\u001b[0;32m      2\u001b[0m     \u001b[38;5;124m\"\u001b[39m\u001b[38;5;124m0x361385576587888be3f6a22f4094f791c16d3264\u001b[39m\u001b[38;5;124m\"\u001b[39m)\n\u001b[1;32m----> 3\u001b[0m nfts \u001b[38;5;241m=\u001b[39m \u001b[43mnftCollection\u001b[49m\u001b[38;5;241;43m.\u001b[39;49m\u001b[43mget_all\u001b[49m\u001b[43m(\u001b[49m\u001b[43m)\u001b[49m\n\u001b[0;32m      4\u001b[0m pprint(nfts)\n",
      "File \u001b[1;32m~\\anaconda3\\lib\\site-packages\\thirdweb\\core\\classes\\erc_721.py:65\u001b[0m, in \u001b[0;36mERC721.get_all\u001b[1;34m(self, query_params)\u001b[0m\n\u001b[0;32m     50\u001b[0m \u001b[38;5;28;01mdef\u001b[39;00m \u001b[38;5;21mget_all\u001b[39m(\n\u001b[0;32m     51\u001b[0m     \u001b[38;5;28mself\u001b[39m, query_params: QueryAllParams \u001b[38;5;241m=\u001b[39m QueryAllParams()\n\u001b[0;32m     52\u001b[0m ) \u001b[38;5;241m-\u001b[39m\u001b[38;5;241m>\u001b[39m List[NFTMetadataOwner]:\n\u001b[0;32m     53\u001b[0m     \u001b[38;5;124;03m\"\"\"\u001b[39;00m\n\u001b[0;32m     54\u001b[0m \u001b[38;5;124;03m    Get the metadata of all tokens in the contract\u001b[39;00m\n\u001b[0;32m     55\u001b[0m \n\u001b[1;32m   (...)\u001b[0m\n\u001b[0;32m     62\u001b[0m \u001b[38;5;124;03m    :return: the metadata of all tokens in the contract\u001b[39;00m\n\u001b[0;32m     63\u001b[0m \u001b[38;5;124;03m    \"\"\"\u001b[39;00m\n\u001b[1;32m---> 65\u001b[0m     max_id \u001b[38;5;241m=\u001b[39m \u001b[38;5;28mmin\u001b[39m(query_params\u001b[38;5;241m.\u001b[39mstart \u001b[38;5;241m+\u001b[39m query_params\u001b[38;5;241m.\u001b[39mcount, \u001b[38;5;28;43mself\u001b[39;49m\u001b[38;5;241;43m.\u001b[39;49m\u001b[43mget_total_count\u001b[49m\u001b[43m(\u001b[49m\u001b[43m)\u001b[49m)\n\u001b[0;32m     67\u001b[0m     nfts \u001b[38;5;241m=\u001b[39m []\n\u001b[0;32m     68\u001b[0m     \u001b[38;5;28;01mfor\u001b[39;00m token_id \u001b[38;5;129;01min\u001b[39;00m \u001b[38;5;28mrange\u001b[39m(query_params\u001b[38;5;241m.\u001b[39mstart, max_id):\n",
      "File \u001b[1;32m~\\anaconda3\\lib\\site-packages\\thirdweb\\core\\classes\\erc_721.py:84\u001b[0m, in \u001b[0;36mERC721.get_total_count\u001b[1;34m(self)\u001b[0m\n\u001b[0;32m     77\u001b[0m \u001b[38;5;28;01mdef\u001b[39;00m \u001b[38;5;21mget_total_count\u001b[39m(\u001b[38;5;28mself\u001b[39m) \u001b[38;5;241m-\u001b[39m\u001b[38;5;241m>\u001b[39m \u001b[38;5;28mint\u001b[39m:\n\u001b[0;32m     78\u001b[0m     \u001b[38;5;124;03m\"\"\"\u001b[39;00m\n\u001b[0;32m     79\u001b[0m \u001b[38;5;124;03m    Get the total number of NFTs minted by this contract\u001b[39;00m\n\u001b[0;32m     80\u001b[0m \n\u001b[0;32m     81\u001b[0m \u001b[38;5;124;03m    :return: the total number of NFTs minted by this contract\u001b[39;00m\n\u001b[0;32m     82\u001b[0m \u001b[38;5;124;03m    \"\"\"\u001b[39;00m\n\u001b[1;32m---> 84\u001b[0m     \u001b[38;5;28;01mreturn\u001b[39;00m \u001b[38;5;28;43mself\u001b[39;49m\u001b[38;5;241;43m.\u001b[39;49m\u001b[43m_contract_wrapper\u001b[49m\u001b[38;5;241;43m.\u001b[39;49m\u001b[43m_contract_abi\u001b[49m\u001b[38;5;241;43m.\u001b[39;49m\u001b[43mnext_token_id_to_mint\u001b[49m\u001b[38;5;241;43m.\u001b[39;49m\u001b[43mcall\u001b[49m\u001b[43m(\u001b[49m\u001b[43m)\u001b[49m\n",
      "File \u001b[1;32m~\\anaconda3\\lib\\site-packages\\thirdweb\\abi\\token_erc721.py:1882\u001b[0m, in \u001b[0;36mNextTokenIdToMintMethod.call\u001b[1;34m(self, tx_params)\u001b[0m\n\u001b[0;32m   1876\u001b[0m \u001b[38;5;124;03m\"\"\"Execute underlying contract method via eth_call.\u001b[39;00m\n\u001b[0;32m   1877\u001b[0m \n\u001b[0;32m   1878\u001b[0m \u001b[38;5;124;03m:param tx_params: transaction parameters\u001b[39;00m\n\u001b[0;32m   1879\u001b[0m \u001b[38;5;124;03m:returns: the return value of the underlying method.\u001b[39;00m\n\u001b[0;32m   1880\u001b[0m \u001b[38;5;124;03m\"\"\"\u001b[39;00m\n\u001b[0;32m   1881\u001b[0m tx_params \u001b[38;5;241m=\u001b[39m \u001b[38;5;28msuper\u001b[39m()\u001b[38;5;241m.\u001b[39mnormalize_tx_params(tx_params)\n\u001b[1;32m-> 1882\u001b[0m returned \u001b[38;5;241m=\u001b[39m \u001b[38;5;28;43mself\u001b[39;49m\u001b[38;5;241;43m.\u001b[39;49m\u001b[43m_underlying_method\u001b[49m\u001b[43m(\u001b[49m\u001b[43m)\u001b[49m\u001b[38;5;241;43m.\u001b[39;49m\u001b[43mcall\u001b[49m\u001b[43m(\u001b[49m\u001b[43mtx_params\u001b[49m\u001b[38;5;241;43m.\u001b[39;49m\u001b[43mas_dict\u001b[49m\u001b[43m(\u001b[49m\u001b[43m)\u001b[49m\u001b[43m)\u001b[49m\n\u001b[0;32m   1883\u001b[0m \u001b[38;5;28;01mreturn\u001b[39;00m \u001b[38;5;28mint\u001b[39m(returned)\n",
      "File \u001b[1;32m~\\anaconda3\\lib\\site-packages\\web3\\contract.py:957\u001b[0m, in \u001b[0;36mContractFunction.call\u001b[1;34m(self, transaction, block_identifier, state_override)\u001b[0m\n\u001b[0;32m    951\u001b[0m         \u001b[38;5;28;01mraise\u001b[39;00m \u001b[38;5;167;01mValueError\u001b[39;00m(\n\u001b[0;32m    952\u001b[0m             \u001b[38;5;124m\"\u001b[39m\u001b[38;5;124mPlease ensure that this contract instance has an address.\u001b[39m\u001b[38;5;124m\"\u001b[39m\n\u001b[0;32m    953\u001b[0m         )\n\u001b[0;32m    955\u001b[0m block_id \u001b[38;5;241m=\u001b[39m parse_block_identifier(\u001b[38;5;28mself\u001b[39m\u001b[38;5;241m.\u001b[39mweb3, block_identifier)\n\u001b[1;32m--> 957\u001b[0m \u001b[38;5;28;01mreturn\u001b[39;00m call_contract_function(\n\u001b[0;32m    958\u001b[0m     \u001b[38;5;28mself\u001b[39m\u001b[38;5;241m.\u001b[39mweb3,\n\u001b[0;32m    959\u001b[0m     \u001b[38;5;28mself\u001b[39m\u001b[38;5;241m.\u001b[39maddress,\n\u001b[0;32m    960\u001b[0m     \u001b[38;5;28mself\u001b[39m\u001b[38;5;241m.\u001b[39m_return_data_normalizers,\n\u001b[0;32m    961\u001b[0m     \u001b[38;5;28mself\u001b[39m\u001b[38;5;241m.\u001b[39mfunction_identifier,\n\u001b[0;32m    962\u001b[0m     call_transaction,\n\u001b[0;32m    963\u001b[0m     block_id,\n\u001b[0;32m    964\u001b[0m     \u001b[38;5;28mself\u001b[39m\u001b[38;5;241m.\u001b[39mcontract_abi,\n\u001b[0;32m    965\u001b[0m     \u001b[38;5;28mself\u001b[39m\u001b[38;5;241m.\u001b[39mabi,\n\u001b[0;32m    966\u001b[0m     state_override,\n\u001b[0;32m    967\u001b[0m     \u001b[38;5;241m*\u001b[39m\u001b[38;5;28mself\u001b[39m\u001b[38;5;241m.\u001b[39margs,\n\u001b[0;32m    968\u001b[0m     \u001b[38;5;241m*\u001b[39m\u001b[38;5;241m*\u001b[39m\u001b[38;5;28mself\u001b[39m\u001b[38;5;241m.\u001b[39mkwargs\n\u001b[0;32m    969\u001b[0m )\n",
      "File \u001b[1;32m~\\anaconda3\\lib\\site-packages\\web3\\contract.py:1501\u001b[0m, in \u001b[0;36mcall_contract_function\u001b[1;34m(web3, address, normalizers, function_identifier, transaction, block_id, contract_abi, fn_abi, state_override, *args, **kwargs)\u001b[0m\n\u001b[0;32m   1486\u001b[0m \u001b[38;5;124;03m\"\"\"\u001b[39;00m\n\u001b[0;32m   1487\u001b[0m \u001b[38;5;124;03mHelper function for interacting with a contract function using the\u001b[39;00m\n\u001b[0;32m   1488\u001b[0m \u001b[38;5;124;03m`eth_call` API.\u001b[39;00m\n\u001b[0;32m   1489\u001b[0m \u001b[38;5;124;03m\"\"\"\u001b[39;00m\n\u001b[0;32m   1490\u001b[0m call_transaction \u001b[38;5;241m=\u001b[39m prepare_transaction(\n\u001b[0;32m   1491\u001b[0m     address,\n\u001b[0;32m   1492\u001b[0m     web3,\n\u001b[1;32m   (...)\u001b[0m\n\u001b[0;32m   1498\u001b[0m     fn_kwargs\u001b[38;5;241m=\u001b[39mkwargs,\n\u001b[0;32m   1499\u001b[0m )\n\u001b[1;32m-> 1501\u001b[0m return_data \u001b[38;5;241m=\u001b[39m \u001b[43mweb3\u001b[49m\u001b[38;5;241;43m.\u001b[39;49m\u001b[43meth\u001b[49m\u001b[38;5;241;43m.\u001b[39;49m\u001b[43mcall\u001b[49m\u001b[43m(\u001b[49m\n\u001b[0;32m   1502\u001b[0m \u001b[43m    \u001b[49m\u001b[43mcall_transaction\u001b[49m\u001b[43m,\u001b[49m\n\u001b[0;32m   1503\u001b[0m \u001b[43m    \u001b[49m\u001b[43mblock_identifier\u001b[49m\u001b[38;5;241;43m=\u001b[39;49m\u001b[43mblock_id\u001b[49m\u001b[43m,\u001b[49m\n\u001b[0;32m   1504\u001b[0m \u001b[43m    \u001b[49m\u001b[43mstate_override\u001b[49m\u001b[38;5;241;43m=\u001b[39;49m\u001b[43mstate_override\u001b[49m\u001b[43m,\u001b[49m\n\u001b[0;32m   1505\u001b[0m \u001b[43m\u001b[49m\u001b[43m)\u001b[49m\n\u001b[0;32m   1507\u001b[0m \u001b[38;5;28;01mif\u001b[39;00m fn_abi \u001b[38;5;129;01mis\u001b[39;00m \u001b[38;5;28;01mNone\u001b[39;00m:\n\u001b[0;32m   1508\u001b[0m     fn_abi \u001b[38;5;241m=\u001b[39m find_matching_fn_abi(contract_abi, web3\u001b[38;5;241m.\u001b[39mcodec, function_identifier, args, kwargs)\n",
      "File \u001b[1;32m~\\anaconda3\\lib\\site-packages\\web3\\module.py:57\u001b[0m, in \u001b[0;36mretrieve_blocking_method_call_fn.<locals>.caller\u001b[1;34m(*args, **kwargs)\u001b[0m\n\u001b[0;32m     55\u001b[0m     \u001b[38;5;28;01mreturn\u001b[39;00m LogFilter(eth_module\u001b[38;5;241m=\u001b[39mmodule, filter_id\u001b[38;5;241m=\u001b[39merr\u001b[38;5;241m.\u001b[39mfilter_id)\n\u001b[0;32m     56\u001b[0m result_formatters, error_formatters, null_result_formatters \u001b[38;5;241m=\u001b[39m response_formatters\n\u001b[1;32m---> 57\u001b[0m result \u001b[38;5;241m=\u001b[39m \u001b[43mw3\u001b[49m\u001b[38;5;241;43m.\u001b[39;49m\u001b[43mmanager\u001b[49m\u001b[38;5;241;43m.\u001b[39;49m\u001b[43mrequest_blocking\u001b[49m\u001b[43m(\u001b[49m\u001b[43mmethod_str\u001b[49m\u001b[43m,\u001b[49m\n\u001b[0;32m     58\u001b[0m \u001b[43m                                     \u001b[49m\u001b[43mparams\u001b[49m\u001b[43m,\u001b[49m\n\u001b[0;32m     59\u001b[0m \u001b[43m                                     \u001b[49m\u001b[43merror_formatters\u001b[49m\u001b[43m,\u001b[49m\n\u001b[0;32m     60\u001b[0m \u001b[43m                                     \u001b[49m\u001b[43mnull_result_formatters\u001b[49m\u001b[43m)\u001b[49m\n\u001b[0;32m     61\u001b[0m \u001b[38;5;28;01mreturn\u001b[39;00m apply_result_formatters(result_formatters, result)\n",
      "File \u001b[1;32m~\\anaconda3\\lib\\site-packages\\web3\\manager.py:198\u001b[0m, in \u001b[0;36mRequestManager.request_blocking\u001b[1;34m(self, method, params, error_formatters, null_result_formatters)\u001b[0m\n\u001b[0;32m    194\u001b[0m \u001b[38;5;124;03m\"\"\"\u001b[39;00m\n\u001b[0;32m    195\u001b[0m \u001b[38;5;124;03mMake a synchronous request using the provider\u001b[39;00m\n\u001b[0;32m    196\u001b[0m \u001b[38;5;124;03m\"\"\"\u001b[39;00m\n\u001b[0;32m    197\u001b[0m response \u001b[38;5;241m=\u001b[39m \u001b[38;5;28mself\u001b[39m\u001b[38;5;241m.\u001b[39m_make_request(method, params)\n\u001b[1;32m--> 198\u001b[0m \u001b[38;5;28;01mreturn\u001b[39;00m \u001b[38;5;28;43mself\u001b[39;49m\u001b[38;5;241;43m.\u001b[39;49m\u001b[43mformatted_response\u001b[49m\u001b[43m(\u001b[49m\u001b[43mresponse\u001b[49m\u001b[43m,\u001b[49m\n\u001b[0;32m    199\u001b[0m \u001b[43m                               \u001b[49m\u001b[43mparams\u001b[49m\u001b[43m,\u001b[49m\n\u001b[0;32m    200\u001b[0m \u001b[43m                               \u001b[49m\u001b[43merror_formatters\u001b[49m\u001b[43m,\u001b[49m\n\u001b[0;32m    201\u001b[0m \u001b[43m                               \u001b[49m\u001b[43mnull_result_formatters\u001b[49m\u001b[43m)\u001b[49m\n",
      "File \u001b[1;32m~\\anaconda3\\lib\\site-packages\\web3\\manager.py:170\u001b[0m, in \u001b[0;36mRequestManager.formatted_response\u001b[1;34m(self, response, params, error_formatters, null_result_formatters)\u001b[0m\n\u001b[0;32m    162\u001b[0m \u001b[38;5;28;01mdef\u001b[39;00m \u001b[38;5;21mformatted_response\u001b[39m(\n\u001b[0;32m    163\u001b[0m     \u001b[38;5;28mself\u001b[39m,\n\u001b[0;32m    164\u001b[0m     response: RPCResponse,\n\u001b[1;32m   (...)\u001b[0m\n\u001b[0;32m    167\u001b[0m     null_result_formatters: Optional[Callable[\u001b[38;5;241m.\u001b[39m\u001b[38;5;241m.\u001b[39m\u001b[38;5;241m.\u001b[39m, Any]] \u001b[38;5;241m=\u001b[39m \u001b[38;5;28;01mNone\u001b[39;00m,\n\u001b[0;32m    168\u001b[0m ) \u001b[38;5;241m-\u001b[39m\u001b[38;5;241m>\u001b[39m Any:\n\u001b[0;32m    169\u001b[0m     \u001b[38;5;28;01mif\u001b[39;00m \u001b[38;5;124m\"\u001b[39m\u001b[38;5;124merror\u001b[39m\u001b[38;5;124m\"\u001b[39m \u001b[38;5;129;01min\u001b[39;00m response:\n\u001b[1;32m--> 170\u001b[0m         \u001b[43mapply_error_formatters\u001b[49m\u001b[43m(\u001b[49m\u001b[43merror_formatters\u001b[49m\u001b[43m,\u001b[49m\u001b[43m \u001b[49m\u001b[43mresponse\u001b[49m\u001b[43m)\u001b[49m\n\u001b[0;32m    171\u001b[0m         \u001b[38;5;28;01mraise\u001b[39;00m \u001b[38;5;167;01mValueError\u001b[39;00m(response[\u001b[38;5;124m\"\u001b[39m\u001b[38;5;124merror\u001b[39m\u001b[38;5;124m\"\u001b[39m])\n\u001b[0;32m    172\u001b[0m     \u001b[38;5;66;03m# NULL_RESPONSES includes None, so return False here as the default\u001b[39;00m\n\u001b[0;32m    173\u001b[0m     \u001b[38;5;66;03m# so we don't apply the null_result_formatters if there is no 'result' key\u001b[39;00m\n",
      "File \u001b[1;32m~\\anaconda3\\lib\\site-packages\\web3\\manager.py:70\u001b[0m, in \u001b[0;36mapply_error_formatters\u001b[1;34m(error_formatters, response)\u001b[0m\n\u001b[0;32m     65\u001b[0m \u001b[38;5;28;01mdef\u001b[39;00m \u001b[38;5;21mapply_error_formatters\u001b[39m(\n\u001b[0;32m     66\u001b[0m     error_formatters: Callable[\u001b[38;5;241m.\u001b[39m\u001b[38;5;241m.\u001b[39m\u001b[38;5;241m.\u001b[39m, Any],\n\u001b[0;32m     67\u001b[0m     response: RPCResponse,\n\u001b[0;32m     68\u001b[0m ) \u001b[38;5;241m-\u001b[39m\u001b[38;5;241m>\u001b[39m RPCResponse:\n\u001b[0;32m     69\u001b[0m     \u001b[38;5;28;01mif\u001b[39;00m error_formatters:\n\u001b[1;32m---> 70\u001b[0m         formatted_resp \u001b[38;5;241m=\u001b[39m \u001b[43mpipe\u001b[49m\u001b[43m(\u001b[49m\u001b[43mresponse\u001b[49m\u001b[43m,\u001b[49m\u001b[43m \u001b[49m\u001b[43merror_formatters\u001b[49m\u001b[43m)\u001b[49m\n\u001b[0;32m     71\u001b[0m         \u001b[38;5;28;01mreturn\u001b[39;00m formatted_resp\n\u001b[0;32m     72\u001b[0m     \u001b[38;5;28;01melse\u001b[39;00m:\n",
      "File \u001b[1;32m~\\anaconda3\\lib\\site-packages\\cytoolz\\functoolz.pyx:667\u001b[0m, in \u001b[0;36mcytoolz.functoolz.pipe\u001b[1;34m()\u001b[0m\n",
      "File \u001b[1;32m~\\anaconda3\\lib\\site-packages\\cytoolz\\functoolz.pyx:642\u001b[0m, in \u001b[0;36mcytoolz.functoolz.c_pipe\u001b[1;34m()\u001b[0m\n",
      "File \u001b[1;32m~\\anaconda3\\lib\\site-packages\\web3\\_utils\\method_formatters.py:580\u001b[0m, in \u001b[0;36mraise_solidity_error_on_revert\u001b[1;34m(response)\u001b[0m\n\u001b[0;32m    578\u001b[0m \u001b[38;5;66;03m# Geth Revert without error message case:\u001b[39;00m\n\u001b[0;32m    579\u001b[0m \u001b[38;5;28;01mif\u001b[39;00m \u001b[38;5;124m'\u001b[39m\u001b[38;5;124mexecution reverted\u001b[39m\u001b[38;5;124m'\u001b[39m \u001b[38;5;129;01min\u001b[39;00m response[\u001b[38;5;124m'\u001b[39m\u001b[38;5;124merror\u001b[39m\u001b[38;5;124m'\u001b[39m]\u001b[38;5;241m.\u001b[39mget(\u001b[38;5;124m'\u001b[39m\u001b[38;5;124mmessage\u001b[39m\u001b[38;5;124m'\u001b[39m):\n\u001b[1;32m--> 580\u001b[0m     \u001b[38;5;28;01mraise\u001b[39;00m ContractLogicError(\u001b[38;5;124m'\u001b[39m\u001b[38;5;124mexecution reverted\u001b[39m\u001b[38;5;124m'\u001b[39m)\n\u001b[0;32m    582\u001b[0m \u001b[38;5;28;01mreturn\u001b[39;00m response\n",
      "\u001b[1;31mContractLogicError\u001b[0m: execution reverted"
     ]
    }
   ],
   "source": [
    "nftCollection = sdk.get_nft_collection(\n",
    "    \"0x361385576587888be3f6a22f4094f791c16d3264\")\n",
    "nfts = nftCollection.get_all()\n",
    "pprint(nfts)\n"
   ]
  },
  {
   "cell_type": "code",
   "execution_count": null,
   "id": "f448981e-8b25-4815-b7bc-951c24b8348c",
   "metadata": {},
   "outputs": [],
   "source": []
  }
 ],
 "metadata": {
  "kernelspec": {
   "display_name": "Python 3 (ipykernel)",
   "language": "python",
   "name": "python3"
  },
  "language_info": {
   "codemirror_mode": {
    "name": "ipython",
    "version": 3
   },
   "file_extension": ".py",
   "mimetype": "text/x-python",
   "name": "python",
   "nbconvert_exporter": "python",
   "pygments_lexer": "ipython3",
   "version": "3.9.7"
  }
 },
 "nbformat": 4,
 "nbformat_minor": 5
}
